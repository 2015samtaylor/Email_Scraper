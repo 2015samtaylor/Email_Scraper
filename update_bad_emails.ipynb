{
 "cells": [
  {
   "cell_type": "code",
   "execution_count": null,
   "metadata": {},
   "outputs": [],
   "source": [
    "%load_ext autoreload\n",
    "%autoreload 2\n",
    "import logging\n",
    "import warnings\n",
    "import os\n",
    "import pandas as pd\n",
    "from config import imap_password_customplanet, db_username, db_password\n",
    "from Scraping_Emails.modules.scrapes import scrape\n",
    "from Scraping_Emails.modules.db_operations_aws import DatabaseConnector\n",
    "from MySQL_Scripts.modules.email_failures import  gather_and_send_bad_emails_to_db\n",
    "from Sending_Emails.modules.sends import EmailConfig\n",
    "warnings.filterwarnings(\"ignore\", category=UserWarning, module=\"pandas\")\n",
    "\n",
    "#create log dir and file\n",
    "logpath_creation = os.getcwd() + '\\\\Logs'\n",
    "if not os.path.exists(logpath_creation):\n",
    "    os.makedirs(logpath_creation)\n",
    "\n",
    "logging.basicConfig(filename= logpath_creation + '\\\\Email_Scraper.log', level=logging.INFO,\n",
    "                    format='%(asctime)s - %(message)s', datefmt='%d-%b-%y %H:%M:%S', force=True)\n",
    "\n",
    "# --------------------Initialize Class------------------------------------------\n",
    "\n",
    "email_config = EmailConfig(\n",
    "                            EMAIL_ADDRESS_FROM = 'team@customplanet.com',\n",
    "                            EMAIL_PASS = imap_password_customplanet,\n",
    "\n",
    "                            server = 'emailcampaign.c9vhoi6ncot7.us-east-1.rds.amazonaws.com',\n",
    "                            database = 'emailcampaign',\n",
    "                            table_name = 'email_history',\n",
    "                            filter_date= '3/4/2024',   #emails sent out since this date\n",
    "\n",
    "                            db_pass= db_password,\n",
    "                            db_user= db_username\n",
    "                            )\n",
    "\n",
    "# ----------------------------------Updating Faulty Emails in the DB before Send----------------------------------\n",
    "#Searches GMAIL on the daily for bad emails that were sent back, and sends data to unsubscribed email table\n",
    "#Goes through all distinct subject lines in the DB\n",
    "\n",
    "\n",
    "db_connector_email_history = DatabaseConnector(email_config.server, email_config.db_user, email_config.db_pass, email_config.database, email_config.table_name)\n",
    "query = db_connector_email_history.SQL_query(f'SELECT DISTINCT subject FROM [{email_config.database}].[dbo].[{email_config.table_name}]')\n",
    "    \n",
    "#Iterate through all unique subject lines to update the db table with all faulty email addresses\n",
    "#Keep in mind this assumes that the func is ran everyday with the function filtering up to yesterday\n",
    "for line in query['subject']:\n",
    "    print('\\n')\n",
    "    print(f'Prior Unique Subject Line: {line}')\n",
    "                                    # subject_line, email_address, email_pass, log_type, override_date = None\n",
    "    gather_and_send_bad_emails_to_db(line, email_config.EMAIL_ADDRESS_FROM, email_config.EMAIL_PASS, 'Prior Unique Subject Line', email_config.filter_date)\n",
    "\n",
    "\n",
    "#Special chars can not be recognized in subejct lines such as '&'\n",
    "#For example 'Local Supplier for Baseball Uniforms & Apparel' is not recognized"
   ]
  }
 ],
 "metadata": {
  "kernelspec": {
   "display_name": "base",
   "language": "python",
   "name": "python3"
  },
  "language_info": {
   "codemirror_mode": {
    "name": "ipython",
    "version": 3
   },
   "file_extension": ".py",
   "mimetype": "text/x-python",
   "name": "python",
   "nbconvert_exporter": "python",
   "pygments_lexer": "ipython3",
   "version": "3.9.7"
  }
 },
 "nbformat": 4,
 "nbformat_minor": 2
}
