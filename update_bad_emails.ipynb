{
 "cells": [
  {
   "cell_type": "code",
   "execution_count": null,
   "metadata": {},
   "outputs": [],
   "source": [
    "%load_ext autoreload\n",
    "%autoreload 2\n",
    "import logging\n",
    "import warnings\n",
    "import os\n",
    "import pandas as pd\n",
    "from config import imap_password_customplanet, db_username, db_password\n",
    "from Scraping_Emails.modules.scrapes import scrape\n",
    "from Scraping_Emails.modules.db_operations_aws import DatabaseConnector\n",
    "from MySQL_Scripts.modules.email_failures import  gather_and_send_bad_emails_to_db\n",
    "warnings.filterwarnings(\"ignore\", category=UserWarning, module=\"pandas\")\n",
    "\n",
    "#create log dir and file\n",
    "logpath_creation = os.getcwd() + '\\\\Logs'\n",
    "if not os.path.exists(logpath_creation):\n",
    "    os.makedirs(logpath_creation)\n",
    "\n",
    "logging.basicConfig(filename= logpath_creation + '\\\\Email_Scraper.log', level=logging.INFO,\n",
    "                    format='%(asctime)s - %(message)s', datefmt='%d-%b-%y %H:%M:%S', force=True)\n",
    "\n",
    "#What is the difference between update_bad_emails & gather and send bad emails to db\n",
    "#Consolidating update_bad_emails to email_faulures\n",
    "\n",
    "\n",
    "email_address = 'team@customplanet.com'\n",
    "email_pass = imap_password_customplanet\n",
    "server = 'emailcampaign.c9vhoi6ncot7.us-east-1.rds.amazonaws.com'\n",
    "database = 'emailcampaign'\n",
    "db = 'emailcampaign'\n",
    "\n",
    "\n",
    "# ----------------------------------Updating Faulty Emails in the DB before Send----------------------------------\n",
    "#Searches GMAIL on the daily for bad emails that were sent back, and sends data to unsubscribed email table\n",
    "#Goes through all distinct subject lines in the DB\n",
    "\n",
    "db_connector_email_history = DatabaseConnector(server, database, db_username, db_password, db, 'email_history')\n",
    "query = db_connector_email_history.SQL_query('SELECT DISTINCT subject FROM [emailcampaign].[dbo].[email_history]')\n",
    "    \n",
    "#Iterate through all unique subject lines to update the db table with all faulty email addresses\n",
    "#Keep in mind this assumes that the func is ran everyday with the function filtering up to yesterday\n",
    "for line in query['subject']:\n",
    "    print('\\n')\n",
    "    print(f'Prior Unique Subject Line: {line}')\n",
    "                                    # subject_line, email_address, email_pass, log_type, override_date = None\n",
    "    gather_and_send_bad_emails_to_db(line, email_address, email_pass, 'Prior Unique Subject Line', '3/4/2024')\n",
    "\n",
    "\n",
    "#Special chars can not be recognized in subejct lines such as '&'\n",
    "#For example 'Local Supplier for Baseball Uniforms & Apparel' is not recognized"
   ]
  }
 ],
 "metadata": {
  "kernelspec": {
   "display_name": "base",
   "language": "python",
   "name": "python3"
  },
  "language_info": {
   "codemirror_mode": {
    "name": "ipython",
    "version": 3
   },
   "file_extension": ".py",
   "mimetype": "text/x-python",
   "name": "python",
   "nbconvert_exporter": "python",
   "pygments_lexer": "ipython3",
   "version": "3.9.7"
  }
 },
 "nbformat": 4,
 "nbformat_minor": 2
}
