{
 "cells": [
  {
   "cell_type": "markdown",
   "id": "1a741d7f",
   "metadata": {},
   "source": [
    "# Query DB for Emails"
   ]
  },
  {
   "cell_type": "code",
   "execution_count": null,
   "id": "131574f7",
   "metadata": {},
   "outputs": [],
   "source": [
    "%load_ext autoreload\n",
    "%autoreload 2\n",
    "\n",
    "from MySQL_Scripts.modules.acquiring_db_emails import query_database, drop_unsubscribed\n",
    "\n",
    "\n",
    "#Query the DB for the customer base that you are narrowing down to, and drop unsubscribed emails\n",
    "mlb = [\n",
    "    'Angels', 'Astros', 'Athletics', 'Blue Jays', 'Braves', 'Brewers', 'Cardinals', 'Cubs', 'Diamondbacks', 'Dodgers',\n",
    "    'Giants', 'Indians', 'Mariners', 'Marlins', 'Mets', 'Nationals', 'Orioles', 'Padres', 'Phillies', 'Pirates',\n",
    "    'Rangers', 'Rays', 'Red Sox', 'Reds', 'Rockies', 'Royals', 'Tigers', 'Twins', 'White Sox', 'Yankees', 'Baseball', 'MLB'\n",
    "]\n",
    "\n",
    "# Create the SQL query string\n",
    "query = f'''\n",
    "    SELECT * \n",
    "    FROM email_prospecting\n",
    "    WHERE {' OR '.join([f\"LOWER(product_name) LIKE '%{x.lower()}%'\" for x in mlb])};\n",
    "'''\n",
    "\n",
    "# Assuming you have a function query_database defined\n",
    "df = query_database(query)\n",
    "df = drop_unsubscribed(df)\n",
    "\n",
    "#This is then references from a csv in the sends"
   ]
  },
  {
   "cell_type": "markdown",
   "id": "dce11876",
   "metadata": {},
   "source": [
    "# Query Local CSV for School Emails"
   ]
  },
  {
   "cell_type": "code",
   "execution_count": 1,
   "id": "f30237e8",
   "metadata": {},
   "outputs": [],
   "source": [
    "%load_ext autoreload\n",
    "%autoreload 2\n",
    "from Sending_Emails.modules import KC_schools\n",
    "import pandas as pd\n",
    "pd.set_option('display.max_columns', None)\n",
    "\n",
    "df = KC_schools.read_in()\n",
    "df = KC_schools.filter_emails_by_sport(df, ['Baseball', 'Softball'])\n"
   ]
  },
  {
   "cell_type": "markdown",
   "id": "8736c1ea",
   "metadata": {},
   "source": [
    "# Initialize A Class in Order to Call Process Function and Clean up Main Code"
   ]
  },
  {
   "cell_type": "code",
   "execution_count": 2,
   "id": "5507e160",
   "metadata": {},
   "outputs": [
    {
     "name": "stdout",
     "output_type": "stream",
     "text": [
      "The autoreload extension is already loaded. To reload it, use:\n",
      "  %reload_ext autoreload\n"
     ]
    }
   ],
   "source": [
    "# this allows all variables to be in one area. Allows for better swap in between templates. \n",
    "# \n",
    "%load_ext autoreload\n",
    "%autoreload 2\n",
    "\n",
    "from config import imap_password_customplanet, db_username, db_password\n",
    "import pandas as pd\n",
    "import numpy as np\n",
    "from datetime import datetime\n",
    "import time\n",
    "import logging\n",
    "import os\n",
    "from Sending_Emails.modules.sends import EmailConfig\n",
    "from Sending_Emails.modules.sends import SendMail\n",
    "from Sending_Emails.modules.html_email_strings.schools_intro import get_intro_template  #THis import dictates template\n",
    "\n",
    "\n",
    "#create log dir and file\n",
    "logpath_creation = os.getcwd() + '\\\\Logs'\n",
    "if not os.path.exists(logpath_creation):\n",
    "    os.makedirs(logpath_creation)\n",
    "\n",
    "logging.basicConfig(filename= logpath_creation + '\\\\Email_Sender.log', level=logging.INFO,\n",
    "                    format='%(asctime)s - %(message)s', datefmt='%d-%b-%y %H:%M:%S', force=True)\n",
    "\n",
    "\n",
    "# --------------------------------------Initialize All Variables--------------------------------\n",
    "\n",
    "email_config = EmailConfig(\n",
    "                            EMAIL_ADDRESS_FROM = 'team@customplanet.com',\n",
    "                            EMAIL_PASS = imap_password_customplanet,\n",
    "    \n",
    "    \n",
    "                            #This connection sustains throughout the email blast loop\n",
    "                            SMTP_CONN = SendMail.get_smtp_connection('team@customplanet.com', imap_password_customplanet),\n",
    "                            df = df, \n",
    "                            #This df is what is created from DW, or Local CSV\n",
    "\n",
    "                           contact_column = 'email',  #should always be email. \n",
    "                           sport = 'Baseball',\n",
    "                           email_campaign_name = 'Offical MLB Jerseys in Stock!!', \n",
    "                           email_subject_line = 'Local Supplier for Baseball Uniforms & Apparel',\n",
    "                           template = get_intro_template(school=None, sport=None),\n",
    "            \n",
    "                           #Not necessary for Send Script. Only Scrape Script\n",
    "                            server = 'emailcampaign.c9vhoi6ncot7.us-east-1.rds.amazonaws.com',\n",
    "                            database = 'emailcampaign',\n",
    "                            table_name = 'email_history'\n",
    "                           )\n",
    "\n"
   ]
  },
  {
   "cell_type": "markdown",
   "id": "5b7744aa",
   "metadata": {},
   "source": [
    "# Calling the Function to Send Emails Iteratively"
   ]
  },
  {
   "cell_type": "code",
   "execution_count": 3,
   "id": "9e83497f",
   "metadata": {},
   "outputs": [
    {
     "name": "stdout",
     "output_type": "stream",
     "text": [
      "Output is not created, first run of 50 emails preparing to be sent\n",
      "0 49\n",
      "Test argument is True, cutting down frame and sending to personal emails\n",
      "F.L. Schlagle High School (KCKS)\n",
      "Plaza Middle (Park Hill)\n"
     ]
    }
   ],
   "source": [
    "#The logic of this function works by declaring the email_history variable which is returned from the process function\n",
    "# This is a dataframe of the emails who it has been sent to. Also is written to output.csv\n",
    "\n",
    "\n",
    "def blast(email_config, test=False):\n",
    "\n",
    "    df = email_config.df\n",
    "\n",
    "    # Get the next 50 emails iteratively and send every 60 seconds with a new SMTP connection\n",
    "    # get_next_50 is what ends this function. It will break once end_point has surpassed.\n",
    "    while len(df) >= 1:\n",
    "\n",
    "        next_50 = SendMail.get_next_50(df)\n",
    "\n",
    "        new_point = next_50.index[0]\n",
    "        end_point = next_50.index[-1]   \n",
    "        print(new_point, end_point) \n",
    "        logging.info(f'\\n\\nStarting email send at index {new_point}, and ending at index {end_point}')\n",
    "\n",
    "         # Check if the end_point surpasses 1500\n",
    "        if end_point >= 1500:\n",
    "            logging.info('Reached the end_point limit of 1500. Exited the loop.')\n",
    "            print('Reached the end_point limit of 1500. Exited the loop.')\n",
    "            break\n",
    "        \n",
    "        # Process the emails\n",
    "        email_history = SendMail.process(email_config, test)\n",
    "        email_history.to_csv('output.csv', index = False)\n",
    "        \n",
    "      \n",
    "        interval_seconds = 30\n",
    "        # Wait for the specified interval before the next iteration\n",
    "        try:\n",
    "            time.sleep(interval_seconds)\n",
    "            logging.info(f'Sleeping for {interval_seconds} seconds completed')\n",
    "            print(f'Sleeping for {interval_seconds} seconds')\n",
    "        except:\n",
    "            logging.info('Issue with the sleep')\n",
    "            print('Issue with the sleep')\n",
    "    \n",
    "    os.remove('output.csv')\n",
    "\n",
    "\n",
    "#If test ARG is True it will keep sending to personal email\n",
    "    \n",
    "blast(email_config, test=True)\n",
    "#output.csv must not exist at the beginning of new runs\n"
   ]
  }
 ],
 "metadata": {
  "hide_input": false,
  "kernelspec": {
   "display_name": "Python 3 (ipykernel)",
   "language": "python",
   "name": "python3"
  },
  "language_info": {
   "codemirror_mode": {
    "name": "ipython",
    "version": 3
   },
   "file_extension": ".py",
   "mimetype": "text/x-python",
   "name": "python",
   "nbconvert_exporter": "python",
   "pygments_lexer": "ipython3",
   "version": "3.9.7"
  }
 },
 "nbformat": 4,
 "nbformat_minor": 5
}
