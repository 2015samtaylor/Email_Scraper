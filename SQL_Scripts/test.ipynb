{
 "cells": [
  {
   "cell_type": "code",
   "execution_count": 3,
   "metadata": {},
   "outputs": [
    {
     "name": "stdout",
     "output_type": "stream",
     "text": [
      "Tunnel local bind port: 50149\n",
      "Tunnel is active: True\n"
     ]
    }
   ],
   "source": [
    "import pandas as pd\n",
    "from sshtunnel import SSHTunnelForwarder\n",
    "import pymysql\n",
    "from config import ssh_username, ssh_host, ssh_password, ssh_port, mysql_database, mysql_host, mysql_password, mysql_port, mysql_username\n",
    "\n",
    "# Establish SSH tunnel\n",
    "with SSHTunnelForwarder(\n",
    "    (ssh_host, ssh_port),\n",
    "    ssh_username=ssh_username,\n",
    "    ssh_password=ssh_password,\n",
    "    remote_bind_address=(mysql_host, mysql_port)\n",
    ") as tunnel:\n",
    "    print(f'Tunnel local bind port: {tunnel.local_bind_port}')\n",
    "    print(f'Tunnel is active: {tunnel.is_active}')\n",
    "\n",
    "    # Connect to MySQL through the tunnel\n",
    "    conn = pymysql.connect(\n",
    "        host=mysql_host,\n",
    "        port=tunnel.local_bind_port,\n",
    "        user=mysql_username,\n",
    "        password=mysql_password,\n",
    "        database=mysql_database,\n",
    "        connect_timeout=30,  # Increase the connection timeout\n",
    "    )\n",
    "\n",
    "    # target_db = 'opencartdb'\n",
    "\n",
    "    # query = \"SELECT * FROM oc_order\"\n",
    "    query_2 = \"SELECT * FROM otto_authentication\"\n",
    "    # table_query = \"SHOW TABLES\"\n",
    "\n",
    "    # data = pd.read_sql_query(query, conn)\n",
    "    query_2 = pd.read_sql_query(query_2, conn)\n",
    "    conn.close()\n",
    "    "
   ]
  }
 ],
 "metadata": {
  "kernelspec": {
   "display_name": "base",
   "language": "python",
   "name": "python3"
  },
  "language_info": {
   "codemirror_mode": {
    "name": "ipython",
    "version": 3
   },
   "file_extension": ".py",
   "mimetype": "text/x-python",
   "name": "python",
   "nbconvert_exporter": "python",
   "pygments_lexer": "ipython3",
   "version": "3.9.7"
  }
 },
 "nbformat": 4,
 "nbformat_minor": 2
}
