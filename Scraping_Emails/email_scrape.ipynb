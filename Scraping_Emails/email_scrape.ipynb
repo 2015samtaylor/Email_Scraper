{
 "cells": [
  {
   "cell_type": "code",
   "execution_count": 64,
   "metadata": {},
   "outputs": [
    {
     "name": "stdout",
     "output_type": "stream",
     "text": [
      "The autoreload extension is already loaded. To reload it, use:\n",
      "  %reload_ext autoreload\n",
      "You have 1 email responses to the specified search criteria Local Fall Basketball Jerseys in the inbox\n",
      "You have 2 email responses to the specified search criteria Local Fall Basketball Jerseys in the outbox\n"
     ]
    },
    {
     "name": "stderr",
     "output_type": "stream",
     "text": [
      "c:\\Users\\samuel.taylor\\OneDrive - Green Dot Public Schools\\Desktop\\Git_Directory\\CP\\CustomPlanet_Work\\Email_Scraper\\Scraping_Emails\\modules\\db_operations.py:21: UserWarning: pandas only supports SQLAlchemy connectable (engine/connection) or database string URI or sqlite3 DBAPI2 connection. Other DBAPI2 objects are not tested. Please consider using SQLAlchemy.\n",
      "  df_SQL = pd.read_sql_query(query, con=self.conn)\n",
      "c:\\Users\\samuel.taylor\\OneDrive - Green Dot Public Schools\\Desktop\\Git_Directory\\CP\\CustomPlanet_Work\\Email_Scraper\\Scraping_Emails\\modules\\db_operations.py:21: UserWarning: pandas only supports SQLAlchemy connectable (engine/connection) or database string URI or sqlite3 DBAPI2 connection. Other DBAPI2 objects are not tested. Please consider using SQLAlchemy.\n",
      "  df_SQL = pd.read_sql_query(query, con=self.conn)\n"
     ]
    },
    {
     "name": "stdout",
     "output_type": "stream",
     "text": [
      "No new records to send\n"
     ]
    },
    {
     "name": "stderr",
     "output_type": "stream",
     "text": [
      "c:\\Users\\samuel.taylor\\OneDrive - Green Dot Public Schools\\Desktop\\Git_Directory\\CP\\CustomPlanet_Work\\Email_Scraper\\Scraping_Emails\\modules\\db_operations.py:21: UserWarning: pandas only supports SQLAlchemy connectable (engine/connection) or database string URI or sqlite3 DBAPI2 connection. Other DBAPI2 objects are not tested. Please consider using SQLAlchemy.\n",
      "  df_SQL = pd.read_sql_query(query, con=self.conn)\n",
      "c:\\Users\\samuel.taylor\\OneDrive - Green Dot Public Schools\\Desktop\\Git_Directory\\CP\\CustomPlanet_Work\\Email_Scraper\\Scraping_Emails\\modules\\db_operations.py:21: UserWarning: pandas only supports SQLAlchemy connectable (engine/connection) or database string URI or sqlite3 DBAPI2 connection. Other DBAPI2 objects are not tested. Please consider using SQLAlchemy.\n",
      "  df_SQL = pd.read_sql_query(query, con=self.conn)\n"
     ]
    },
    {
     "name": "stdout",
     "output_type": "stream",
     "text": [
      "Reply_Thread updated\n",
      "Reply_Thread updated\n"
     ]
    }
   ],
   "source": [
    "# Script to Scrape Responses to Email and piece together for NO SQL DB.\n",
    "\n",
    "%load_ext autoreload\n",
    "%autoreload 2\n",
    "# import importlib\n",
    "# importlib.reload()\n",
    "\n",
    "import logging\n",
    "import pandas as pd\n",
    "from config import imap_password_customplanet, db_username, db_password\n",
    "from modules.scrapes import scrape\n",
    "from modules.db_operations import DatabaseConnector\n",
    "\n",
    "email_address = 'team@customplanet.com'\n",
    "email_pass = imap_password_customplanet\n",
    "\n",
    "\n",
    "logging.basicConfig(filename='Email_Scraper.log', level=logging.INFO,\n",
    "                   format='%(asctime)s - %(message)s', datefmt='%d-%b-%y %H:%M:%S',force=True)\n",
    "\n",
    "\n",
    "# ------------------------------------packaging process into final function----------------------------------------\n",
    "\n",
    "def process(subject_line, email_address, email_pass):\n",
    "\n",
    "    #create the msgs via scrape, then iterate through list of messages, and lastly cleanse frame\n",
    "    email_address = 'team@customplanet.com'\n",
    "    email_pass = imap_password_customplanet\n",
    "    subject_line = 'Local Fall Basketball Jerseys'\n",
    "\n",
    "    msgs_inbox = scrape.scrape_msgs_outbox_or_inbox('inbox', subject_line, email_address, email_pass)\n",
    "    inbox, inbox_soup = scrape.create_msg_frame(msgs_inbox)\n",
    "    inbox = scrape.cleanse_frame(inbox, 'inbox')\n",
    "    inbox.name = 'inbox'\n",
    "\n",
    "    msgs_outbox = scrape.scrape_msgs_outbox_or_inbox('outbox', subject_line, email_address, email_pass)\n",
    "    outbox, outbox_soup = scrape.create_msg_frame(msgs_outbox)\n",
    "    outbox = scrape.cleanse_frame(outbox, 'outbox')\n",
    "    outbox.name = 'outbox'\n",
    "\n",
    "    thread = scrape.piece_together(outbox, inbox)\n",
    "    \n",
    "    # Specify your database connection details\n",
    "    server = 'emailcampaign.c9vhoi6ncot7.us-east-1.rds.amazonaws.com'\n",
    "    database = 'emailcampaign'\n",
    "    db = 'emailcampaign'\n",
    "    table_name = 'thread'\n",
    "\n",
    "    # Instantiate the DatabaseConnector class\n",
    "    db_connector = DatabaseConnector(server, database, db_username, db_password, db, table_name)\n",
    "\n",
    "    #If there are any new records, append them onto thread table\n",
    "    #Update the reply_thread everytime\n",
    "    new_records = db_connector.append_new_records(thread)\n",
    "    db_connector.update_reply_thread(thread)\n",
    "\n",
    "    return(inbox, outbox, thread, new_records)\n",
    "\n",
    "# The foreign constraint enforces that this must have been sent initially. \n",
    "inbox, outbox, thread, new_records = process('Local Fall Basketball Jerseys', email_address, email_pass)"
   ]
  },
  {
   "cell_type": "markdown",
   "metadata": {},
   "source": [
    "# To DO"
   ]
  },
  {
   "cell_type": "code",
   "execution_count": null,
   "metadata": {},
   "outputs": [],
   "source": [
    "#Properly get first_message. \n",
    "# This should occur in the outbox, hypothesis....\n",
    "\n",
    "#Create PNGs on hoodies images using Selenium. \n",
    "\n",
    "\n",
    "#Create a seperate module for parsing the body of text for NLP\n",
    "#Scrape out the body at a later date for sentiment analysis\n",
    "#IF inbox is empty default to just outbox\n",
    "\n",
    "#Look into this at some point\n",
    "#Why with the reply of 'Y' does it have an empty field on the reply_thread\n",
    "\n",
    "#Thirdly, what if the email is not directly replied to. In that case. \n",
    "# The scenarion would be the following, email campaign sent out to sammytaylor2006@yahoo.com\n",
    "#The customer indirectly reaches out to CP, and not through the thread. This calls for a seperate table.\n",
    "# and a seperate scrape \n",
    "\n",
    "#Integrate SSIS at some point for views\n",
    "\n",
    "\n",
    "#Integrating prior orders and linking them in a SQL view.\n",
    "\n",
    "#Predictive analytics based on prior orders\n",
    "\n",
    "#Figure out why the run time is so long"
   ]
  }
 ],
 "metadata": {
  "kernelspec": {
   "display_name": "base",
   "language": "python",
   "name": "python3"
  },
  "language_info": {
   "codemirror_mode": {
    "name": "ipython",
    "version": 3
   },
   "file_extension": ".py",
   "mimetype": "text/x-python",
   "name": "python",
   "nbconvert_exporter": "python",
   "pygments_lexer": "ipython3",
   "version": "3.9.7"
  }
 },
 "nbformat": 4,
 "nbformat_minor": 2
}
