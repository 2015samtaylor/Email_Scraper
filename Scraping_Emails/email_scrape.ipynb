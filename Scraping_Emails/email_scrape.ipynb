{
 "cells": [
  {
   "cell_type": "code",
   "execution_count": 2,
   "metadata": {},
   "outputs": [
    {
     "name": "stdout",
     "output_type": "stream",
     "text": [
      "The autoreload extension is already loaded. To reload it, use:\n",
      "  %reload_ext autoreload\n",
      "You have 3 email responses to the specified search criteria Sport Special in the inbox\n",
      "You have 9 email responses to the specified search criteria Sport Special in the outbox\n"
     ]
    },
    {
     "name": "stderr",
     "output_type": "stream",
     "text": [
      "c:\\Users\\samuel.taylor\\OneDrive - Green Dot Public Schools\\Desktop\\Git_Directory\\CP\\CustomPlanet_Work\\Email_Scraper\\Scraping_Emails\\modules\\db_operations.py:22: UserWarning: pandas only supports SQLAlchemy connectable (engine/connection) or database string URI or sqlite3 DBAPI2 connection. Other DBAPI2 objects are not tested. Please consider using SQLAlchemy.\n",
      "  return(df_SQL)\n",
      "c:\\Users\\samuel.taylor\\OneDrive - Green Dot Public Schools\\Desktop\\Git_Directory\\CP\\CustomPlanet_Work\\Email_Scraper\\Scraping_Emails\\modules\\db_operations.py:22: UserWarning: pandas only supports SQLAlchemy connectable (engine/connection) or database string URI or sqlite3 DBAPI2 connection. Other DBAPI2 objects are not tested. Please consider using SQLAlchemy.\n",
      "  return(df_SQL)\n",
      "c:\\Users\\samuel.taylor\\OneDrive - Green Dot Public Schools\\Desktop\\Git_Directory\\CP\\CustomPlanet_Work\\Email_Scraper\\Scraping_Emails\\modules\\db_operations.py:22: UserWarning: pandas only supports SQLAlchemy connectable (engine/connection) or database string URI or sqlite3 DBAPI2 connection. Other DBAPI2 objects are not tested. Please consider using SQLAlchemy.\n",
      "  return(df_SQL)\n",
      "c:\\Users\\samuel.taylor\\OneDrive - Green Dot Public Schools\\Desktop\\Git_Directory\\CP\\CustomPlanet_Work\\Email_Scraper\\Scraping_Emails\\modules\\db_operations.py:22: UserWarning: pandas only supports SQLAlchemy connectable (engine/connection) or database string URI or sqlite3 DBAPI2 connection. Other DBAPI2 objects are not tested. Please consider using SQLAlchemy.\n",
      "  return(df_SQL)\n"
     ]
    },
    {
     "name": "stdout",
     "output_type": "stream",
     "text": [
      "No new records to send\n",
      "Reply_Thread updated\n",
      "Reply_Thread updated\n",
      "Reply_Thread updated\n"
     ]
    }
   ],
   "source": [
    "# The email scrape filters for 12/16/2023 and on\n",
    "\n",
    "\n",
    "%load_ext autoreload\n",
    "%autoreload 2\n",
    "# import importlib\n",
    "# importlib.reload()\n",
    "\n",
    "import logging\n",
    "import pandas as pd\n",
    "from config import imap_password_customplanet, db_username, db_password\n",
    "from modules.scrapes import scrape\n",
    "from modules.db_operations import DatabaseConnector\n",
    "\n",
    "email_address = 'team@customplanet.com'\n",
    "email_pass = imap_password_customplanet\n",
    "\n",
    "\n",
    "logging.basicConfig(filename='Email_Scraper.log', level=logging.INFO,\n",
    "                   format='%(asctime)s - %(message)s', datefmt='%d-%b-%y %H:%M:%S',force=True)\n",
    "\n",
    "\n",
    "# ------------------------------------packaging process into final function----------------------------------------\n",
    "\n",
    "def process(subject_line, email_address, email_pass, start_date):\n",
    "\n",
    "    logging.info('\\n\\nNew logging instance')\n",
    "\n",
    "    #create the msgs via scrape, then iterate through list of messages, and lastly cleanse frame\n",
    "    email_address = 'team@customplanet.com'\n",
    "    email_pass = imap_password_customplanet\n",
    " \n",
    "    msgs_inbox = scrape.scrape_msgs_outbox_or_inbox('inbox', subject_line, email_address, email_pass, start_date)\n",
    "    inbox = scrape.create_msg_frame(msgs_inbox)\n",
    "    inbox = scrape.cleanse_frame(inbox, 'inbox')\n",
    "    inbox.name = 'inbox'\n",
    "\n",
    "    msgs_outbox = scrape.scrape_msgs_outbox_or_inbox('outbox', subject_line, email_address, email_pass, start_date)\n",
    "    outbox = scrape.create_msg_frame(msgs_outbox)\n",
    "    outbox = scrape.cleanse_frame(outbox, 'outbox')\n",
    "    outbox.name = 'outbox'\n",
    "    \n",
    "    if outbox.empty == True:\n",
    "        thread = None\n",
    "        pass\n",
    "    else: #this is a left merge on outbox\n",
    "        thread = scrape.piece_together(outbox, inbox)\n",
    "        thread = scrape.assign_sentiment(thread)\n",
    "    \n",
    "    # Specify your database connection details\n",
    "    server = 'emailcampaign.c9vhoi6ncot7.us-east-1.rds.amazonaws.com'\n",
    "    database = 'emailcampaign'\n",
    "    db = 'emailcampaign'\n",
    "    table_name = 'thread'\n",
    "\n",
    "    # Instantiate the DatabaseConnector class\n",
    "    db_connector = DatabaseConnector(server, database, db_username, db_password, db, table_name)\n",
    "\n",
    "    #If there are any new records, append them onto thread table\n",
    "    #Update the reply_thread everytime\n",
    "    if thread.empty == False:\n",
    "        new_records = db_connector.append_new_records(thread)\n",
    "        db_connector.update_reply_thread(thread)\n",
    "        logging.info(f'Thread has been updated with {len(new_records)}')\n",
    "    else:\n",
    "        logging.info('Thread is none')\n",
    "        print('Thread is none')\n",
    "        new_records = None\n",
    "\n",
    "    # return(inbox, outbox, thread, new_records)\n",
    "    return(inbox, outbox, thread, new_records)\n",
    "\n",
    "# The foreign constraint enforces that this must have been sent initially. \n",
    "inbox, outbox, thread, new_records  = process('Sport Special', email_address, email_pass, '11/15/2023')\n",
    "\n",
    "#4285 emails in the inbox took 21 minutes\n",
    "\n",
    "#Send out test emails for local baskebtall jsersyes\n",
    "#Then send out for local football jerseys\n",
    "# The scrape subject line, and email subject line should be referencing one variable"
   ]
  },
  {
   "cell_type": "markdown",
   "metadata": {},
   "source": [
    "# To DO"
   ]
  },
  {
   "cell_type": "code",
   "execution_count": null,
   "metadata": {},
   "outputs": [],
   "source": [
    "#Create PNGs on hoodies images using Selenium. \n",
    "\n",
    "#Write directly to MySQL DB\n",
    "\n",
    "#Refine NLP\n",
    "\n",
    "#Thirdly, what if the email is not directly replied to. In that case. \n",
    "# The scenarion would be the following, email campaign sent out to sammytaylor2006@yahoo.com\n",
    "#The customer indirectly reaches out to CP, and not through the thread. This calls for a seperate table.\n",
    "# and a seperate scrape \n",
    "\n",
    "#Integrate SSIS at some point for views\n",
    "#Integrating prior orders and linking them in a SQL view.\n",
    "\n",
    "#Predictive analytics based on prior orders\n",
    "\n",
    "#Put the PNG on the given sport jersey\n",
    "#Clean the CSV to iterate properly, this should be done. \n",
    "#Singularize the db_operations to reference in both"
   ]
  }
 ],
 "metadata": {
  "kernelspec": {
   "display_name": "base",
   "language": "python",
   "name": "python3"
  },
  "language_info": {
   "codemirror_mode": {
    "name": "ipython",
    "version": 3
   },
   "file_extension": ".py",
   "mimetype": "text/x-python",
   "name": "python",
   "nbconvert_exporter": "python",
   "pygments_lexer": "ipython3",
   "version": "3.9.7"
  }
 },
 "nbformat": 4,
 "nbformat_minor": 2
}
